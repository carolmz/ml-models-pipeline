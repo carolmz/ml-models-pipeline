{
 "cells": [
  {
   "cell_type": "markdown",
   "id": "4e1ec183",
   "metadata": {},
   "source": [
    "# XGBRegressor"
   ]
  },
  {
   "cell_type": "markdown",
   "id": "5f77de08",
   "metadata": {},
   "source": [
    "### Import Libs and Data"
   ]
  },
  {
   "cell_type": "code",
   "execution_count": 39,
   "id": "0269a589",
   "metadata": {},
   "outputs": [],
   "source": [
    "import pandas as pd\n",
    "import numpy as np\n",
    "import seaborn as sns\n",
    "import matplotlib.pyplot as plt\n",
    "import xgboost as xgb\n",
    "from sklearn.model_selection import train_test_split,cross_val_predict, cross_val_score, GridSearchCV\n",
    "from sklearn.metrics import accuracy_score, mean_squared_error\n",
    "from scipy import stats\n",
    "from sklearn.preprocessing import StandardScaler, RobustScaler\n",
    "from sklearn.metrics import r2_score"
   ]
  },
  {
   "cell_type": "code",
   "execution_count": 40,
   "id": "436ffef0",
   "metadata": {},
   "outputs": [
    {
     "name": "stdout",
     "output_type": "stream",
     "text": [
      "Full train dataset shape is (150, 6)\n"
     ]
    }
   ],
   "source": [
    "# Load a dataset into a Pandas Dataframe\n",
    "dataset_df = pd.read_excel('data_2.xlsx')\n",
    "print(\"Full train dataset shape is {}\".format(dataset_df.shape))"
   ]
  },
  {
   "cell_type": "code",
   "execution_count": 41,
   "id": "8d9ed6c9",
   "metadata": {},
   "outputs": [
    {
     "data": {
      "text/html": [
       "<div>\n",
       "<style scoped>\n",
       "    .dataframe tbody tr th:only-of-type {\n",
       "        vertical-align: middle;\n",
       "    }\n",
       "\n",
       "    .dataframe tbody tr th {\n",
       "        vertical-align: top;\n",
       "    }\n",
       "\n",
       "    .dataframe thead th {\n",
       "        text-align: right;\n",
       "    }\n",
       "</style>\n",
       "<table border=\"1\" class=\"dataframe\">\n",
       "  <thead>\n",
       "    <tr style=\"text-align: right;\">\n",
       "      <th></th>\n",
       "      <th>Date</th>\n",
       "      <th>Sales ($)</th>\n",
       "      <th>TV_ads ($)</th>\n",
       "      <th>online_ads ($)</th>\n",
       "      <th>Print_ads ($)</th>\n",
       "      <th>Price ($)</th>\n",
       "    </tr>\n",
       "  </thead>\n",
       "  <tbody>\n",
       "    <tr>\n",
       "      <th>0</th>\n",
       "      <td>Jan-2008</td>\n",
       "      <td>6237000</td>\n",
       "      <td>181222.548442</td>\n",
       "      <td>12152.540107</td>\n",
       "      <td>24986.912760</td>\n",
       "      <td>135.0</td>\n",
       "    </tr>\n",
       "    <tr>\n",
       "      <th>1</th>\n",
       "      <td>Feb-2008</td>\n",
       "      <td>6115500</td>\n",
       "      <td>179104.353164</td>\n",
       "      <td>57353.376363</td>\n",
       "      <td>17574.385360</td>\n",
       "      <td>135.0</td>\n",
       "    </tr>\n",
       "    <tr>\n",
       "      <th>2</th>\n",
       "      <td>Mar-2008</td>\n",
       "      <td>10577250</td>\n",
       "      <td>222756.223235</td>\n",
       "      <td>146794.245435</td>\n",
       "      <td>16016.022899</td>\n",
       "      <td>135.0</td>\n",
       "    </tr>\n",
       "    <tr>\n",
       "      <th>3</th>\n",
       "      <td>Apr-2008</td>\n",
       "      <td>13473000</td>\n",
       "      <td>188266.818315</td>\n",
       "      <td>376459.468169</td>\n",
       "      <td>29689.694160</td>\n",
       "      <td>135.0</td>\n",
       "    </tr>\n",
       "    <tr>\n",
       "      <th>4</th>\n",
       "      <td>May-2008</td>\n",
       "      <td>6258525</td>\n",
       "      <td>210038.289741</td>\n",
       "      <td>21297.573231</td>\n",
       "      <td>17606.991440</td>\n",
       "      <td>136.5</td>\n",
       "    </tr>\n",
       "  </tbody>\n",
       "</table>\n",
       "</div>"
      ],
      "text/plain": [
       "       Date  Sales ($)     TV_ads ($)  online_ads ($)  Print_ads ($)  \\\n",
       "0  Jan-2008    6237000  181222.548442    12152.540107   24986.912760   \n",
       "1  Feb-2008    6115500  179104.353164    57353.376363   17574.385360   \n",
       "2  Mar-2008   10577250  222756.223235   146794.245435   16016.022899   \n",
       "3  Apr-2008   13473000  188266.818315   376459.468169   29689.694160   \n",
       "4  May-2008    6258525  210038.289741    21297.573231   17606.991440   \n",
       "\n",
       "   Price ($)  \n",
       "0      135.0  \n",
       "1      135.0  \n",
       "2      135.0  \n",
       "3      135.0  \n",
       "4      136.5  "
      ]
     },
     "execution_count": 41,
     "metadata": {},
     "output_type": "execute_result"
    }
   ],
   "source": [
    "dataset_df.head()"
   ]
  },
  {
   "cell_type": "code",
   "execution_count": 42,
   "id": "97d29a63",
   "metadata": {},
   "outputs": [
    {
     "name": "stdout",
     "output_type": "stream",
     "text": [
      "<class 'pandas.core.frame.DataFrame'>\n",
      "RangeIndex: 150 entries, 0 to 149\n",
      "Data columns (total 6 columns):\n",
      " #   Column          Non-Null Count  Dtype  \n",
      "---  ------          --------------  -----  \n",
      " 0   Date            150 non-null    object \n",
      " 1   Sales ($)       150 non-null    int64  \n",
      " 2   TV_ads ($)      150 non-null    float64\n",
      " 3   online_ads ($)  150 non-null    float64\n",
      " 4   Print_ads ($)   150 non-null    float64\n",
      " 5   Price ($)       150 non-null    float64\n",
      "dtypes: float64(4), int64(1), object(1)\n",
      "memory usage: 7.2+ KB\n"
     ]
    }
   ],
   "source": [
    "dataset_df.info()"
   ]
  },
  {
   "cell_type": "markdown",
   "id": "3331ce38",
   "metadata": {},
   "source": [
    "### Feature engineering"
   ]
  },
  {
   "cell_type": "code",
   "execution_count": 44,
   "id": "faa6468f",
   "metadata": {},
   "outputs": [],
   "source": [
    "# Define a function to map months to seasons\n",
    "def map_to_season(month):\n",
    "    if month in ['Dec', 'Jan', 'Feb']:  # Winter: Dec, Jan, Feb\n",
    "        return 'Winter'\n",
    "    elif month in ['Mar', 'Apr', 'May']:  # Spring: Mar, Apr, May\n",
    "        return 'Spring'\n",
    "    elif month in ['Jun', 'Jul', 'Aug']:  # Summer: Jun, Jul, Aug\n",
    "        return 'Summer'\n",
    "    else:  # Fall: Sep, Oct, Nov\n",
    "        return 'Fall'"
   ]
  },
  {
   "cell_type": "code",
   "execution_count": 45,
   "id": "db8875d3",
   "metadata": {},
   "outputs": [],
   "source": [
    "############ New Features ############\n",
    "dataset_df['Date'] = pd.to_datetime(dataset_df['Date'])\n",
    "\n",
    "# Extract month names from the \"date\" column and create the \"season\" column\n",
    "dataset_df['season'] = dataset_df['Date'].dt.strftime('%b').map(map_to_season)\n",
    "\n",
    "# Create dummy variables for the \"season\" column\n",
    "season_dummies = pd.get_dummies(dataset_df['season'], prefix='season', drop_first=True)\n",
    "dataset_df = pd.concat([dataset_df, season_dummies], axis=1)\n",
    "\n",
    "dataset_df['is_weekend'] = dataset_df['Date'].dt.dayofweek.isin([5, 6]).astype(int)\n",
    "\n",
    "# Create interaction terms\n",
    "dataset_df['TV_online_interaction'] = dataset_df['TV_ads ($)'] * dataset_df['online_ads ($)']\n",
    "dataset_df['TV_print_interaction'] = dataset_df['TV_ads ($)'] * dataset_df['Print_ads ($)']\n",
    "dataset_df['TV_price_interaction'] = dataset_df['TV_ads ($)'] * dataset_df['Price ($)']\n",
    "dataset_df['Online_print_interaction'] = dataset_df['online_ads ($)'] * dataset_df['Print_ads ($)']\n",
    "dataset_df['Online_price_interaction'] = dataset_df['online_ads ($)'] * dataset_df['Price ($)']\n",
    "dataset_df['Print_price_interaction'] = dataset_df['Print_ads ($)'] * dataset_df['Price ($)']\n",
    "dataset_df['TV_online_Print_price_interaction'] = dataset_df['TV_ads ($)'] * dataset_df['online_ads ($)'] * dataset_df['Print_ads ($)'] * dataset_df['Price ($)']\n",
    "\n",
    "x = dataset_df.drop(columns=['Sales ($)','Date','season'])\n",
    "y = dataset_df['Sales ($)']\n",
    "\n",
    "# log(1+x) transform\n",
    "#y = np.log1p(pd.to_numeric(y))"
   ]
  },
  {
   "cell_type": "code",
   "execution_count": 46,
   "id": "7a509cb6",
   "metadata": {},
   "outputs": [
    {
     "name": "stdout",
     "output_type": "stream",
     "text": [
      "Number of remaining data points: 150\n"
     ]
    }
   ],
   "source": [
    "############ Filter Outliers ############\n",
    "\n",
    "# Calculate z-scores for the target variable to identify outliers\n",
    "z_scores = np.abs(stats.zscore(y))\n",
    "\n",
    "# Set a threshold for z-scores to identify outliers\n",
    "threshold = 3  # Adjust this threshold as needed\n",
    "\n",
    "# Identify and filter outliers\n",
    "filtered_indices = np.where(z_scores <= threshold)[0]\n",
    "x_filtered = x.iloc[filtered_indices]\n",
    "y_filtered = y[filtered_indices]\n",
    "\n",
    "\n",
    "# Print the number of outliers and the number of remaining data points\n",
    "print(f\"Number of remaining data points: {len(filtered_indices)}\")"
   ]
  },
  {
   "cell_type": "code",
   "execution_count": 47,
   "id": "cb5e09cd",
   "metadata": {},
   "outputs": [],
   "source": [
    "############ Scale Data ############\n",
    "scaler = StandardScaler()\n",
    "scaled_x = scaler.fit_transform(x_filtered)"
   ]
  },
  {
   "cell_type": "markdown",
   "id": "9cca6748",
   "metadata": {},
   "source": [
    "### Split Data"
   ]
  },
  {
   "cell_type": "code",
   "execution_count": 48,
   "id": "e63427a5",
   "metadata": {},
   "outputs": [],
   "source": [
    "X_train, X_test, y_train, y_test = train_test_split(x_filtered, y_filtered, test_size=0.2, random_state=42)"
   ]
  },
  {
   "cell_type": "markdown",
   "id": "9f2c7658",
   "metadata": {},
   "source": [
    "### Xgboost"
   ]
  },
  {
   "cell_type": "code",
   "execution_count": 49,
   "id": "6d481244",
   "metadata": {},
   "outputs": [
    {
     "name": "stdout",
     "output_type": "stream",
     "text": [
      "RMSE: 747121.1584091386\n",
      "MSE: 558190025342.613\n",
      "R2 Score: 0.9324039303492666\n"
     ]
    }
   ],
   "source": [
    "from xgboost import XGBRegressor\n",
    "\n",
    "model = XGBRegressor()\n",
    "# Create an XGBoost model object\n",
    "xgb_model = XGBRegressor(n_estimators=1000, max_depth=7, eta=0.1, subsample=0.7, colsample_bytree=0.8, random_state=42)\n",
    "\n",
    "# Train the model on the training data\n",
    "xgb_model.fit(X_train, y_train)\n",
    "\n",
    "# Make predictions on the test set\n",
    "y_pred = xgb_model.predict(X_test)\n",
    "\n",
    "# Calculate RMSE (Root Mean Squared Error)\n",
    "rmse = np.sqrt(mean_squared_error(y_test, y_pred))\n",
    "print(f\"RMSE: {rmse}\")\n",
    "\n",
    "# For regression tasks, calculate mean squared error\n",
    "mse = mean_squared_error(y_test, y_pred)\n",
    "print(f\"MSE: {mse}\")\n",
    "\n",
    "# Calculate R-squared (R2) score\n",
    "r2 = r2_score(y_test, y_pred)\n",
    "print(f\"R2 Score: {r2}\")\n"
   ]
  },
  {
   "cell_type": "code",
   "execution_count": 50,
   "id": "82adb904",
   "metadata": {},
   "outputs": [
    {
     "name": "stdout",
     "output_type": "stream",
     "text": [
      "Best Hyperparameters: {'colsample_bytree': 0.8, 'learning_rate': 0.1, 'max_depth': 5, 'n_estimators': 300, 'subsample': 0.8}\n",
      "RMSE: 645520.4290659091\n",
      "R2 Score: 0.9495385930178161\n"
     ]
    }
   ],
   "source": [
    "# Define the parameter grid for hyperparameter tuning\n",
    "param_grid = {\n",
    "    'n_estimators': [100, 200, 300],\n",
    "    'max_depth': [3, 5, 7],\n",
    "    'learning_rate': [0.1, 0.01, 0.001],\n",
    "    'subsample': [0.7, 0.8, 0.9],\n",
    "    'colsample_bytree': [0.7, 0.8, 0.9]\n",
    "}\n",
    "\n",
    "# Create GridSearchCV object with cross-validation\n",
    "grid_search = GridSearchCV(estimator=xgb_model, param_grid=param_grid, cv=5, scoring='neg_root_mean_squared_error')\n",
    "\n",
    "# Fit the GridSearchCV object on the training data\n",
    "grid_search.fit(X_train, y_train)\n",
    "\n",
    "# Get the best hyperparameters\n",
    "best_params = grid_search.best_params_\n",
    "print(\"Best Hyperparameters:\", best_params)\n",
    "\n",
    "# Get the best model\n",
    "best_xgb_model = grid_search.best_estimator_\n",
    "\n",
    "# Make predictions on the test set using the best model\n",
    "y_pred = best_xgb_model.predict(X_test)\n",
    "\n",
    "# Calculate RMSE (Root Mean Squared Error)\n",
    "rmse = np.sqrt(mean_squared_error(y_test, y_pred))\n",
    "print(f\"RMSE: {rmse}\")\n",
    "\n",
    "# Calculate R-squared (R2) score\n",
    "r2 = r2_score(y_test, y_pred)\n",
    "print(f\"R2 Score: {r2}\")"
   ]
  },
  {
   "cell_type": "code",
   "execution_count": null,
   "id": "cf960b2a",
   "metadata": {},
   "outputs": [],
   "source": []
  }
 ],
 "metadata": {
  "kernelspec": {
   "display_name": "Python 3 (ipykernel)",
   "language": "python",
   "name": "python3"
  },
  "language_info": {
   "codemirror_mode": {
    "name": "ipython",
    "version": 3
   },
   "file_extension": ".py",
   "mimetype": "text/x-python",
   "name": "python",
   "nbconvert_exporter": "python",
   "pygments_lexer": "ipython3",
   "version": "3.9.12"
  }
 },
 "nbformat": 4,
 "nbformat_minor": 5
}
